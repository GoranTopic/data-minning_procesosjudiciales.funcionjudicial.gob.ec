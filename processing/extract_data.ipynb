{
 "cells": [
  {
   "cell_type": "markdown",
   "id": "18b0e5ad",
   "metadata": {},
   "source": [
    "# Extract the data from processos judiciales scrapped data \n",
    "this data is structured into valuo folder and files \n",
    "\n",
    "we need to read all of them and add the our df\n",
    "\n",
    "after that we save (upload it to the mongodb)"
   ]
  },
  {
   "cell_type": "code",
   "execution_count": 1,
   "id": "364bbac7",
   "metadata": {},
   "outputs": [
    {
     "ename": "SyntaxError",
     "evalue": "incomplete input (4197646367.py, line 5)",
     "output_type": "error",
     "traceback": [
      "\u001b[0;36m  Cell \u001b[0;32mIn[1], line 5\u001b[0;36m\u001b[0m\n\u001b[0;31m    \u001b[0m\n\u001b[0m    ^\u001b[0m\n\u001b[0;31mSyntaxError\u001b[0m\u001b[0;31m:\u001b[0m incomplete input\n"
     ]
    }
   ],
   "source": [
    "# get all of the directories on the ./storage/ dir\n",
    "import os\n",
    "\n",
    "def get_dirs():\n",
    "    dirs = []\n",
    "    for dir in os.listdir('./storage/'):\n",
    "        if os.path.isdir('./storage/' + dir):\n",
    "            dirs.append(dir)\n",
    "    return dirs\n",
    "    \n",
    "def get_files():\n",
    "    files = []\n",
    "    for file in os.listdir('./storage/'):\n",
    "        if os.path.isfile('./storage/' + file):\n",
    "            files.append(file)\n",
    "    return files\n",
    "\n",
    "print(get_dirs())\n",
    "\n"
   ]
  }
 ],
 "metadata": {
  "kernelspec": {
   "display_name": "Python 3 (ipykernel)",
   "language": "python",
   "name": "python3"
  },
  "language_info": {
   "codemirror_mode": {
    "name": "ipython",
    "version": 3
   },
   "file_extension": ".py",
   "mimetype": "text/x-python",
   "name": "python",
   "nbconvert_exporter": "python",
   "pygments_lexer": "ipython3",
   "version": "3.12.4"
  }
 },
 "nbformat": 4,
 "nbformat_minor": 5
}
