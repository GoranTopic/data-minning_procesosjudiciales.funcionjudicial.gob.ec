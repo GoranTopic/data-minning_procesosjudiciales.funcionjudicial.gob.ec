{
 "cells": [
  {
   "cell_type": "code",
   "execution_count": 23,
   "metadata": {},
   "outputs": [
    {
     "name": "stdout",
     "output_type": "stream",
     "text": [
      "        Cédula        id_Juicio                                  Delito  \\\n",
      "0  100004407.0  03204201700015               COBRO DE PAGARÉ A LA ORDEN   \n",
      "1  100007269.0  01204201905175                                ALIMENTOS   \n",
      "2  100007269.0  01204201903452                                ALIMENTOS   \n",
      "3  100007269.0  01204201900368   INVESTIGACIÓN DE PATERNIDAD/MATERNIDAD   \n",
      "4  100013465.0  01371202300415                PAGO DE HABERES LABORALES   \n",
      "\n",
      "         Fecha_de_Ingreso        mes     año                 Estado  \\\n",
      "0 2017-01-09 13:23:24.813    January  2017.0              No activo   \n",
      "1 2019-09-09 15:50:33.447  September  2019.0  No se pudo determinar   \n",
      "2 2019-06-12 13:19:18.733       June  2019.0              No activo   \n",
      "3 2019-01-18 21:50:53.770    January  2019.0              No activo   \n",
      "4 2023-12-05 17:28:11.537   December  2023.0                 Activo   \n",
      "\n",
      "  Monto_por_juicio  \n",
      "0              NaN  \n",
      "1              NaN  \n",
      "2              NaN  \n",
      "3              NaN  \n",
      "4              NaN  \n"
     ]
    }
   ],
   "source": [
    "import pandas as pd\n",
    "\n",
    "# Replace 'your_file.xlsx' with the path to your Excel file\n",
    "file_path = './raw_data_juicios.xlsx'\n",
    "\n",
    "# Read the Excel file\n",
    "df = pd.read_excel(file_path)\n",
    "\n",
    "# print head\n",
    "print(df.head())"
   ]
  },
  {
   "cell_type": "code",
   "execution_count": 22,
   "metadata": {},
   "outputs": [],
   "source": [
    "# change to strign in df\n",
    "df['Cédula'] = df['Cédula'].astype(str)"
   ]
  },
  {
   "cell_type": "code",
   "execution_count": 25,
   "metadata": {},
   "outputs": [
    {
     "name": "stdout",
     "output_type": "stream",
     "text": [
      "Cédula\n",
      "9.284309e+08    99\n",
      "1.400412e+09    88\n",
      "7.046659e+08    87\n",
      "1.400513e+09    86\n",
      "1.400286e+09    86\n",
      "                ..\n",
      "9.422024e+08     1\n",
      "9.422002e+08     1\n",
      "9.422000e+08     1\n",
      "9.421969e+08     1\n",
      "1.104264e+09     1\n",
      "Name: count, Length: 512903, dtype: int64\n"
     ]
    }
   ],
   "source": [
    "# get only the cedula column\n",
    "cedula_comun = df['Cédula']\n",
    "\n",
    "# for each cedula get the number of time it has bee repeated\n",
    "cedula_counts = cedula_comun.value_counts()\n",
    "# print the number of times\n",
    "print(cedula_counts)"
   ]
  },
  {
   "cell_type": "code",
   "execution_count": 26,
   "metadata": {},
   "outputs": [
    {
     "name": "stdout",
     "output_type": "stream",
     "text": [
      "        Cédula        id_Juicio                                  Delito  \\\n",
      "0  100004407.0  03204201700015               COBRO DE PAGARÉ A LA ORDEN   \n",
      "1  100007269.0  01204201905175                                ALIMENTOS   \n",
      "2  100007269.0  01204201903452                                ALIMENTOS   \n",
      "3  100007269.0  01204201900368   INVESTIGACIÓN DE PATERNIDAD/MATERNIDAD   \n",
      "4  100013465.0  01371202300415                PAGO DE HABERES LABORALES   \n",
      "\n",
      "         Fecha_de_Ingreso        mes     año                 Estado  \\\n",
      "0 2017-01-09 13:23:24.813    January  2017.0              No activo   \n",
      "1 2019-09-09 15:50:33.447  September  2019.0  No se pudo determinar   \n",
      "2 2019-06-12 13:19:18.733       June  2019.0              No activo   \n",
      "3 2019-01-18 21:50:53.770    January  2019.0              No activo   \n",
      "4 2023-12-05 17:28:11.537   December  2023.0                 Activo   \n",
      "\n",
      "  Monto_por_juicio  count  \n",
      "0              NaN    1.0  \n",
      "1              NaN    3.0  \n",
      "2              NaN    3.0  \n",
      "3              NaN    3.0  \n",
      "4              NaN    1.0  \n"
     ]
    }
   ],
   "source": [
    "# add the cedula_counts back to the original data frame\n",
    "df = pd.merge(df, cedula_counts, left_on='Cédula', right_index=True, how='left')\n",
    "\n",
    "print(df.head())"
   ]
  },
  {
   "cell_type": "code",
   "execution_count": null,
   "metadata": {},
   "outputs": [],
   "source": []
  }
 ],
 "metadata": {
  "kernelspec": {
   "display_name": "Python 3",
   "language": "python",
   "name": "python3"
  },
  "language_info": {
   "codemirror_mode": {
    "name": "ipython",
    "version": 3
   },
   "file_extension": ".py",
   "mimetype": "text/x-python",
   "name": "python",
   "nbconvert_exporter": "python",
   "pygments_lexer": "ipython3",
   "version": "3.11.7"
  }
 },
 "nbformat": 4,
 "nbformat_minor": 2
}
